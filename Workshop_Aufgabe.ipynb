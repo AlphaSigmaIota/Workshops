{
  "cells": [
    {
      "cell_type": "markdown",
      "id": "d466003e-bce3-4135-b1d6-9e9cc6ba0dab",
      "metadata": {
        "id": "d466003e-bce3-4135-b1d6-9e9cc6ba0dab"
      },
      "source": [
        "# Aufgabe - Recommendersystem bauen anhand von Produktbeschreibungen\n",
        "\n",
        "Das Datenset besteht aus 500 echten Produkten aus dem Produktkatalog einer Outdoor-Bekleidungsmarke. Dieses lässt sich sehr gut für ein Produktempfehlungssystem verwenden, ähnlich bei Amazon \"Kunden, die kauften, kauften auch.\" oder \"Kunden, die dieses Produkt angesehen haben, haben auch dieses Produkt angeschaut.\"\n",
        "\n",
        "\n",
        "Der Datensatz enthält lediglich zwei Spalten:\n",
        "  - eine Nummer zur eindeutigen Identifikation des Produkts\n",
        "  - Beschreibung des Produkts aus dem Produktkatalog"
      ]
    },
    {
      "cell_type": "markdown",
      "id": "e6519d1b-abb6-4f7f-a0ee-5b41d0c81210",
      "metadata": {
        "id": "e6519d1b-abb6-4f7f-a0ee-5b41d0c81210"
      },
      "source": [
        "## Inhaltsverzeichnis\n",
        "\n",
        "[Aufgabe 1: Exploration Datenset](#exploration)<br>\n",
        "[Aufgabe 2: Daten aufbereiten](#dataProcessing)<br>\n",
        "[Aufgabe 3: Produktcluster identifizieren](#clustering)<br>\n",
        "[Aufgabe 4: Recommender System bauen](#recommender)<br>\n",
        "\n",
        "Installation aller empfohlenen Libraries. Es handelt sich hier um eine Empfehlung. Zur Lösung der Aufgabe dürfen auch anderweitige Libraries verwendet werden. 😉"
      ]
    },
    {
      "cell_type": "code",
      "execution_count": null,
      "id": "7e773bde-eef9-4a50-ada1-3a17024f603d",
      "metadata": {
        "id": "7e773bde-eef9-4a50-ada1-3a17024f603d"
      },
      "outputs": [],
      "source": [
        "# Import von python libraries\n",
        "!pip install pandas\n",
        "!pip install nltk\n",
        "!pip install scikit-learn\n",
        "!pip install matplotlib\n",
        "!pip install wordcloud"
      ]
    },
    {
      "cell_type": "markdown",
      "id": "908d4537-1453-42d3-a1e8-a33830a408e1",
      "metadata": {
        "id": "908d4537-1453-42d3-a1e8-a33830a408e1"
      },
      "source": [
        "## 1. Exploration Datenset<a id='exploration'></a>"
      ]
    },
    {
      "cell_type": "code",
      "execution_count": 2,
      "id": "4dd6092a-eb1f-4759-9ecd-df85a2f313da",
      "metadata": {
        "id": "4dd6092a-eb1f-4759-9ecd-df85a2f313da"
      },
      "outputs": [],
      "source": [
        "# Importieren der pandas lib\n",
        "import pandas as pd"
      ]
    },
    {
      "cell_type": "code",
      "execution_count": null,
      "id": "8fa94edc-623e-4a09-b2ee-c39f7dadaff7",
      "metadata": {
        "id": "8fa94edc-623e-4a09-b2ee-c39f7dadaff7"
      },
      "outputs": [],
      "source": [
        "# sample-data.csv herunterladen\n",
        "!wget https://raw.githubusercontent.com/AlphaSigmaIota/Workshops/main/sample-data.csv"
      ]
    },
    {
      "cell_type": "code",
      "source": [
        "# Einlesen der csv Datei sample-data.csv (Tipp: Verwendet den Parameter index_col um die vorhanden ID als Index festzulegen)\n",
        "df = pd.read_csv('sample-data.csv')"
      ],
      "metadata": {
        "id": "7UWUeWP_kfdx"
      },
      "id": "7UWUeWP_kfdx",
      "execution_count": 4,
      "outputs": []
    },
    {
      "cell_type": "code",
      "execution_count": 5,
      "id": "d91703a5-886d-40ca-a79d-55cb6955df34",
      "metadata": {
        "id": "d91703a5-886d-40ca-a79d-55cb6955df34"
      },
      "outputs": [],
      "source": [
        "# Verwende die Methoden DataFrame.info(), DataFrame.head() um euch die Daten anzeigen zu lassen"
      ]
    },
    {
      "cell_type": "code",
      "execution_count": null,
      "id": "fd7dff9b-cc40-4569-90d8-e609b5166210",
      "metadata": {
        "id": "fd7dff9b-cc40-4569-90d8-e609b5166210"
      },
      "outputs": [],
      "source": []
    },
    {
      "cell_type": "code",
      "execution_count": null,
      "id": "07378dd5-7e65-4857-b673-1343b20391dd",
      "metadata": {
        "id": "07378dd5-7e65-4857-b673-1343b20391dd"
      },
      "outputs": [],
      "source": [
        "# Gebe eine komplette description aus, was fällt auf?\n"
      ]
    },
    {
      "cell_type": "markdown",
      "id": "20187953-84d4-4952-b6c7-bc5d60b4b66a",
      "metadata": {
        "id": "20187953-84d4-4952-b6c7-bc5d60b4b66a"
      },
      "source": [
        "## 2. Daten aufbereiten <a id='dataProcessing'></a>\n",
        "##### Datenbereinigung:\n",
        "- Entfernen von HTML-Tags\n",
        "- Entfernen von überflüssigen Leerzeichen (zur besseren Lesbarkeit für den Menschen 😉)\n",
        "- Entfernen von Sonderzeichen"
      ]
    },
    {
      "cell_type": "code",
      "execution_count": null,
      "id": "57c63573-155f-4780-8aae-3ece2d93b570",
      "metadata": {
        "id": "57c63573-155f-4780-8aae-3ece2d93b570"
      },
      "outputs": [],
      "source": [
        "# Erstelle hier die Methoden, die dazu dienen...\n",
        "# - ...HTML-Tags aus einem Text zu entfernen.\n",
        "# - ...überflüssige Leerzeichen zu entfernen.\n",
        "# - ...Sonderzeichen und Zahlen zu entfernen.\n",
        "# Tipp: Nutze Regular Expressions (RegEx)\n"
      ]
    },
    {
      "cell_type": "code",
      "execution_count": null,
      "id": "52a47152-34f5-4726-aaf4-2bbbba63aef9",
      "metadata": {
        "id": "52a47152-34f5-4726-aaf4-2bbbba63aef9"
      },
      "outputs": [],
      "source": [
        "# Transformiere die Spalte 'description' indem die apply() Funktion vom dataframe genutzt wird.\n",
        "# Entferne die HTML Tags und lasse dir die Description danach ausgeben.\n",
        "# Tipp: Nutze am besten eine neue Spalte um Vorher/Nachher Ergebnisse zu sehen.\n"
      ]
    },
    {
      "cell_type": "code",
      "execution_count": null,
      "id": "c5cfc94b-3c9c-4531-930b-42ecae0f88a4",
      "metadata": {
        "id": "c5cfc94b-3c9c-4531-930b-42ecae0f88a4"
      },
      "outputs": [],
      "source": [
        "# Entferne die überflüssigen Leerzeichen und lasse dir die Description danach ausgeben.\n"
      ]
    },
    {
      "cell_type": "code",
      "execution_count": 1,
      "id": "281c4fc8-52fb-4525-add0-9c31d590e6dc",
      "metadata": {
        "id": "281c4fc8-52fb-4525-add0-9c31d590e6dc"
      },
      "outputs": [],
      "source": [
        "# Entferne Sonderzeichen und Zahlen und lasse dir die Description danach ausgeben.\n"
      ]
    },
    {
      "cell_type": "code",
      "execution_count": null,
      "id": "cf38d96f-a4ee-4a37-a42f-10142aa7bbf0",
      "metadata": {
        "id": "cf38d96f-a4ee-4a37-a42f-10142aa7bbf0"
      },
      "outputs": [],
      "source": [
        "# Für NLP ist es wichtig, dass die Wörter alle kleingeschrieben sind. Transformiere also alle in lower-CASE.\n"
      ]
    },
    {
      "cell_type": "markdown",
      "id": "1b61a9eb-2352-41d9-ac7a-62ea847d06f0",
      "metadata": {
        "id": "1b61a9eb-2352-41d9-ac7a-62ea847d06f0"
      },
      "source": [
        "##### Tokenisierung\n",
        "Im nächsten Schritt kommen wir zur Tokenisierung, dieser ist ein grundlegender Schritt in der Textvorverarbeitung im Bereich NLP. Sie hilft dabei, einen unstrukturierten Text in einzelne Token oder Wörter zu zerlegen, was die anschließende Analyse und Verarbeitung enorm erleichtert."
      ]
    },
    {
      "cell_type": "code",
      "execution_count": null,
      "id": "cb519f12-179b-4f22-8365-6ddf080afa5d",
      "metadata": {
        "id": "cb519f12-179b-4f22-8365-6ddf080afa5d"
      },
      "outputs": [],
      "source": [
        "# Tokenisiere die bereinigte Produktbeschreibung. Nutze auch hier die apply() Funktion.\n",
        "\n",
        "\n",
        "# Lädt Ressourcen für nltk herunter:\n",
        "\n",
        "\n",
        "# Beschreibungen der Produkte tokenisieren\n"
      ]
    },
    {
      "cell_type": "markdown",
      "id": "6dde4305-a17d-4dee-9ce1-f23d7377c03c",
      "metadata": {
        "id": "6dde4305-a17d-4dee-9ce1-f23d7377c03c"
      },
      "source": [
        "##### Stopwörter\n",
        "Stoppwörter sind häufig vorkommende Wörter wie \"und\", \"oder\", \"aber\" usw., die wenig zur Bedeutung des Textes beitragen, aber dennoch in vielen Texten erscheinen. Durch die Entfernung von Stoppwörtern wird der Text von irrelevanten Wörtern befreit, was die Qualität der weiteren Analyse verbessert."
      ]
    },
    {
      "cell_type": "code",
      "execution_count": null,
      "id": "0362575d-9cf2-4506-a13a-9e4226bdbf4e",
      "metadata": {
        "id": "0362575d-9cf2-4506-a13a-9e4226bdbf4e"
      },
      "outputs": [],
      "source": [
        "# Laden der englischen Stopwortliste\n"
      ]
    },
    {
      "cell_type": "code",
      "execution_count": null,
      "id": "d5589be6-e782-4a2e-a6a6-4296a9b3d1e7",
      "metadata": {
        "id": "d5589be6-e782-4a2e-a6a6-4296a9b3d1e7"
      },
      "outputs": [],
      "source": [
        "# Schreibe hier eine Methode, die Stoppwörter entfernt. Als Eingabe wir die liste der Tokens übergeben.\n"
      ]
    },
    {
      "cell_type": "code",
      "execution_count": null,
      "id": "0d5cc43b-899a-49cf-83fa-032243600998",
      "metadata": {
        "id": "0d5cc43b-899a-49cf-83fa-032243600998"
      },
      "outputs": [],
      "source": [
        "# Stoppwörter aus den Produktbeschreibungen entfernen.\n"
      ]
    },
    {
      "cell_type": "code",
      "execution_count": null,
      "id": "a5d645a2-964b-44f2-8e56-b3906e1da507",
      "metadata": {
        "id": "a5d645a2-964b-44f2-8e56-b3906e1da507"
      },
      "outputs": [],
      "source": [
        "# Lasst euch den Unterschied nach der Entfernung der Stoppwörter ausgeben\n"
      ]
    },
    {
      "cell_type": "markdown",
      "id": "2a637dc2-1861-4892-8c24-5ee70f392734",
      "metadata": {
        "id": "2a637dc2-1861-4892-8c24-5ee70f392734"
      },
      "source": [
        "## 3. Produktcluster identifizieren <a id='clustering'></a>"
      ]
    },
    {
      "cell_type": "code",
      "execution_count": null,
      "id": "f74c9b27-60f5-45ed-992d-6e378f871c5e",
      "metadata": {
        "id": "f74c9b27-60f5-45ed-992d-6e378f871c5e"
      },
      "outputs": [],
      "source": [
        "# Für die weitere Verarbeitung brauchen wir die Liste als String:\n"
      ]
    },
    {
      "cell_type": "code",
      "execution_count": null,
      "id": "cf27c98c-23f2-4fbf-8196-4628bbe64352",
      "metadata": {
        "id": "cf27c98c-23f2-4fbf-8196-4628bbe64352"
      },
      "outputs": [],
      "source": [
        "from sklearn.feature_extraction.text import TfidfVectorizer\n",
        "\n",
        "# Nutze das TD-IDF Modell und vektorisiere die Beschreibung. Wie viele Tokens habt ihr im Vektor?\n"
      ]
    },
    {
      "cell_type": "code",
      "execution_count": null,
      "id": "76c49c03-b8a6-4917-bc85-97603314c2d9",
      "metadata": {
        "id": "76c49c03-b8a6-4917-bc85-97603314c2d9"
      },
      "outputs": [],
      "source": [
        "# Lasst euch die ersten 50 Wörter/Tokens anzeigen... 😊\n"
      ]
    },
    {
      "cell_type": "code",
      "execution_count": null,
      "id": "2c86f0ea-fbbc-45f4-918c-33e0f3321a78",
      "metadata": {
        "id": "2c86f0ea-fbbc-45f4-918c-33e0f3321a78"
      },
      "outputs": [],
      "source": [
        "# Die Wörter müssen jetzt pro Produkt als Spalten aufbereitet werden und ihre Häufigkeit gezählt.\n",
        "# Ziel ist es als Index die Produktnummerierung zu erhalten und als Spalten die 4942 Tokens mit ihren Counts in den Zeilen der Produkte\n"
      ]
    },
    {
      "cell_type": "code",
      "execution_count": null,
      "id": "cc8cade2-525a-417b-b4db-f149b439e038",
      "metadata": {
        "id": "cc8cade2-525a-417b-b4db-f149b439e038"
      },
      "outputs": [],
      "source": [
        "# Nutzt DBSCAN um Produktcluser zu bilden.\n",
        "\n",
        "\n",
        "# Definiere das Produktcluster\n",
        "\n",
        "\n",
        "# Bilde die Cluster\n",
        "\n",
        "# Schreibe die Cluster-IDs in deine Dataframes\n"
      ]
    },
    {
      "cell_type": "code",
      "execution_count": null,
      "id": "32cfc03c-c9b6-4066-aa84-4639c4cdfb77",
      "metadata": {
        "id": "32cfc03c-c9b6-4066-aa84-4639c4cdfb77"
      },
      "outputs": [],
      "source": [
        "# Gebe dir mal die Cluster aus und die Produkte, die dorthin einsortiert wurden.\n"
      ]
    },
    {
      "cell_type": "code",
      "execution_count": null,
      "id": "dc390b33-a750-4ee6-af5a-c64484013fea",
      "metadata": {
        "id": "dc390b33-a750-4ee6-af5a-c64484013fea"
      },
      "outputs": [],
      "source": [
        "# Lasse dir 5 Beispiele für das Cluster 2 ausgeben.\n"
      ]
    },
    {
      "cell_type": "code",
      "execution_count": null,
      "id": "14f03a1a-4a21-46fd-8689-b692f54b6820",
      "metadata": {
        "id": "14f03a1a-4a21-46fd-8689-b692f54b6820"
      },
      "outputs": [],
      "source": [
        "# Gebe dir drei Beispielprodukte aus dem Cluster 2 aus.\n"
      ]
    },
    {
      "cell_type": "code",
      "execution_count": null,
      "id": "718b16a4-fec8-42bf-9029-08779a217044",
      "metadata": {
        "id": "718b16a4-fec8-42bf-9029-08779a217044"
      },
      "outputs": [],
      "source": [
        "# Gibt dir die 5 häufigsten Wörter der Produktkategorie 9 aus\n"
      ]
    },
    {
      "cell_type": "code",
      "execution_count": null,
      "id": "a534fa3a-afad-4a51-870e-874e9eb84d22",
      "metadata": {
        "id": "a534fa3a-afad-4a51-870e-874e9eb84d22"
      },
      "outputs": [],
      "source": [
        "# Gebe die Wörter als Wordcloud aus. Du kannst gerne ein paar Produktkategorien wählen, die dir sinnvoll erscheinen.\n"
      ]
    },
    {
      "cell_type": "markdown",
      "id": "cf6b0342-e770-4e6a-ae01-f3dde6ee01a9",
      "metadata": {
        "id": "cf6b0342-e770-4e6a-ae01-f3dde6ee01a9"
      },
      "source": [
        "## 4. Recommender System bauen <a id='recommender'></a>"
      ]
    },
    {
      "cell_type": "code",
      "execution_count": null,
      "id": "5951eded-4c3a-4cf9-afd1-63dc57d40f45",
      "metadata": {
        "id": "5951eded-4c3a-4cf9-afd1-63dc57d40f45"
      },
      "outputs": [],
      "source": [
        "# Schreibe eine Funktion, die dir zu einer item_id 5 ähnliche Produkte ausgibt."
      ]
    },
    {
      "cell_type": "code",
      "execution_count": null,
      "id": "5cf785c6-538e-41b5-a515-23e474905adb",
      "metadata": {
        "id": "5cf785c6-538e-41b5-a515-23e474905adb"
      },
      "outputs": [],
      "source": [
        "# Hilfsklasse zum farblichen Printen :)\n",
        "class bcolors:\n",
        "    OKBLUE = '\\033[94m'\n",
        "    OKGREEN = '\\033[92m'"
      ]
    },
    {
      "cell_type": "code",
      "execution_count": null,
      "id": "2ffbe2eb-1a91-466e-9e04-3e09d98df6bb",
      "metadata": {
        "id": "2ffbe2eb-1a91-466e-9e04-3e09d98df6bb"
      },
      "outputs": [],
      "source": [
        "# Lasse dir ähnliche Produkte zu einem ausgewählen Produkt ausgeben, z.B. Produkt = 9."
      ]
    }
  ],
  "metadata": {
    "kernelspec": {
      "display_name": "Python 3 (ipykernel)",
      "language": "python",
      "name": "python3"
    },
    "language_info": {
      "codemirror_mode": {
        "name": "ipython",
        "version": 3
      },
      "file_extension": ".py",
      "mimetype": "text/x-python",
      "name": "python",
      "nbconvert_exporter": "python",
      "pygments_lexer": "ipython3",
      "version": "3.11.6"
    },
    "colab": {
      "provenance": []
    }
  },
  "nbformat": 4,
  "nbformat_minor": 5
}